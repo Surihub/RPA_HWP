{
 "cells": [
  {
   "cell_type": "markdown",
   "metadata": {},
   "source": [
    "## 각각의 한글 파일을 pdf로 저장하기\n",
    "\n",
    "- 작업폴더에 여러 한글 파일이 있는 상황\n",
    "- 목표 : 작업폴더에 있는 모든 파일을 각각 pdf로 변환하기\n",
    "\n",
    "[코드 출처](\"https://bebutae.tistory.com/255\")"
   ]
  },
  {
   "cell_type": "code",
   "execution_count": 6,
   "metadata": {},
   "outputs": [],
   "source": [
    "#필요한 라이브러리를 임포트합니다.\n",
    "import win32com.client\n",
    "import os\n",
    "import re\n",
    "\n",
    "# 작업폴더\n",
    "dir_original=\"C:/project_sbh/의뢰/\"\n",
    "\n",
    "#파일의 경로를 지정해줍니다.\n",
    "\n",
    "def hwp2pdf(getPath):\n",
    "\n",
    "    print(getPath, \"----변환을 시작합니다. \")\n",
    "\n",
    "    #원래 경로와 같은 경로에 pdf 변환하여 저장\n",
    "    savePath = getPath\n",
    "    #한글 파일을 열기 위해 HWP변수에 함수를 저장합니다.\n",
    "    hwp = win32com.client.gencache.EnsureDispatch('HWPFrame.HwpObject')\n",
    "\n",
    "    #HWP변수에 한글 보안 모듈을 적용합니다.\n",
    "    hwp.RegisterModule('FilePathCheckDLL', 'SecurityModule')\n",
    "\n",
    "    #불러올 파일의 경로에 있는 hwp확장자를 가진 파일들의 리스트를 가져옵니다.\n",
    "    files = [f for f in os.listdir(getPath) if re.match('.*[.]hwp', f)]\n",
    "\n",
    "    #for문을 이용해 한글 파일을 PDF 파일로 바꾸는 코드를 반복 실행해줍니다.\n",
    "    #file이라는 변수에 files라는 리스트에 들어있는 변수를 순서대로 대입하게 됩니다.\n",
    "    for file in files:\n",
    "        \n",
    "        #지정한 경로에 있는 한글 파일을 열어줍니다.\n",
    "        hwp.Open(os.path.join(getPath, file))\n",
    "\n",
    "        #불러온 파일의 파일명과 확장자를 분리합니다.\n",
    "        pre, ext = os.path.splitext(file)\n",
    "        \n",
    "        #아래에 작성할 설정값으로 프로그램을 실행해달라는 명령어입니다.\n",
    "        hwp.HAction.GetDefault(\"FileSaveAs_S\", hwp.HParameterSet.HFileOpenSave.HSet)\n",
    "\n",
    "        #파일 저장시 확장자를 pdf로 지정합니다.\n",
    "        hwp.HParameterSet.HFileOpenSave.filename = os.path.join(savePath, pre + \".pdf\")\n",
    "        \n",
    "        #파일 저장시 포맷을 pdf로 설정합니다.\n",
    "        hwp.HParameterSet.HFileOpenSave.Format = \"PDF\"\n",
    "        \n",
    "        #위에 작성한 설정값으로 프로그램을 실행해달라는 명령어입니다.\n",
    "        hwp.HAction.Execute(\"FileSaveAs_S\", hwp.HParameterSet.HFileOpenSave.HSet);\n",
    "    \n",
    "    print(getPath, \"----변환이 완료되었습니다. \")\n",
    "\n",
    "    #한글 파일을 종료합니다.\n",
    "    hwp.Quit()"
   ]
  },
  {
   "cell_type": "code",
   "execution_count": null,
   "metadata": {},
   "outputs": [],
   "source": [
    "hwp2pdf(dir_original+\"민사법기록/\")\n",
    "hwp2pdf(dir_original+\"공법기록/\")\n",
    "hwp2pdf(dir_original+\"형사법기록/\")"
   ]
  }
 ],
 "metadata": {
  "kernelspec": {
   "display_name": "pytorch_sbh",
   "language": "python",
   "name": "python3"
  },
  "language_info": {
   "codemirror_mode": {
    "name": "ipython",
    "version": 3
   },
   "file_extension": ".py",
   "mimetype": "text/x-python",
   "name": "python",
   "nbconvert_exporter": "python",
   "pygments_lexer": "ipython3",
   "version": "3.10.9"
  },
  "orig_nbformat": 4
 },
 "nbformat": 4,
 "nbformat_minor": 2
}
